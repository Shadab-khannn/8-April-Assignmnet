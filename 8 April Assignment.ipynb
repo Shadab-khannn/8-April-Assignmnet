{
 "cells": [
  {
   "cell_type": "code",
   "execution_count": null,
   "id": "b9d4a868-aa65-4a3c-bc5f-13cf22a85da9",
   "metadata": {},
   "outputs": [],
   "source": [
    "Q1. In order to predict house price based on several characteristics, such as location, square footage,\n",
    "number of bedrooms, etc., you are developing an SVM regression model. Which regression metric in this\n",
    "situation would be the best to employ?"
   ]
  },
  {
   "cell_type": "markdown",
   "id": "b651bc13-ae15-4a81-99c9-2117c7910716",
   "metadata": {},
   "source": [
    "NAS -"
   ]
  },
  {
   "cell_type": "code",
   "execution_count": null,
   "id": "817a105c-8092-4a13-b6b9-789be948321e",
   "metadata": {},
   "outputs": [],
   "source": [
    "There are several regression metrics that can be used to evaluate the performance of an SVM regression model. Some of the most popular\n",
    "ones are:\n",
    "\n",
    "1.Mean Absolute Error (MAE)\n",
    "2.Root Mean Square Error (RMSE)\n",
    "3.Coefficient of determination or R2\n",
    "4.Adjusted R2\n",
    "\n",
    "These metrics can help you determine how well your model is performing and whether it is accurately predicting house prices based on the \n",
    "given characteristics. You can choose the metric that best suits your needs based on the specific requirements of your project."
   ]
  },
  {
   "cell_type": "code",
   "execution_count": null,
   "id": "a36378d7-4681-4ca4-9812-f6debdb7787e",
   "metadata": {},
   "outputs": [],
   "source": []
  },
  {
   "cell_type": "code",
   "execution_count": null,
   "id": "a3fc0273-47fe-4393-9e53-7992361ef4e3",
   "metadata": {},
   "outputs": [],
   "source": [
    "Q2. You have built an SVM regression model and are trying to decide between using MSE or R-squared as\n",
    "your evaluation metric. Which metric would be more appropriate if your goal is to predict the actual price\n",
    "of a house as accurately as possible?"
   ]
  },
  {
   "cell_type": "markdown",
   "id": "c2b9a559-b2b2-4739-8e4b-10897eddac4d",
   "metadata": {},
   "source": [
    "ANS-"
   ]
  },
  {
   "cell_type": "code",
   "execution_count": null,
   "id": "5b22024c-7758-4e2e-b1e6-8acbf36aecce",
   "metadata": {},
   "outputs": [],
   "source": [
    "If My goal is to predict the actual price of a house as accurately as possible, then MSE (Mean Squared Error) would be more appropriate as \n",
    "an evaluation metric for your SVM regression model. MSE is a measure of the average squared difference between the predicted and actual values.\n",
    "It is sensitive to outliers and penalizes large errors more than small ones. R-squared is a measure of how well the model fits the data and\n",
    "explains the variation in the data. It is not a measure of prediction accuracy."
   ]
  },
  {
   "cell_type": "code",
   "execution_count": null,
   "id": "bb07de46-e413-4ddb-8c33-c604b91fc0b5",
   "metadata": {},
   "outputs": [],
   "source": []
  },
  {
   "cell_type": "code",
   "execution_count": null,
   "id": "931bdbba-7400-4c8e-86db-4c6fcd49e371",
   "metadata": {},
   "outputs": [],
   "source": [
    "Q3. You have a dataset with a significant number of outliers and are trying to select an appropriate\n",
    "regression metric to use with your SVM model. Which metric would be the most appropriate in this\n",
    "scenario?"
   ]
  },
  {
   "cell_type": "markdown",
   "id": "df59392c-da6c-4e36-8803-e214f3d09f0c",
   "metadata": {},
   "source": [
    "ANS-"
   ]
  },
  {
   "cell_type": "code",
   "execution_count": null,
   "id": "2625b853-7967-4528-a345-167ad4767af8",
   "metadata": {},
   "outputs": [],
   "source": [
    "When dealing with a dataset that has a significant number of outliers and trying to select an appropriate regression metric to use\n",
    "with your SVM model, it is recommended to use SVM over Logistic Regression. This is because SVM can handle complex data and there\n",
    "would be less room for errors compared to Logistic Regression. Logistic regression is more sensitive to outliers, hence SVM \n",
    "performs better in presence of outliers."
   ]
  },
  {
   "cell_type": "code",
   "execution_count": null,
   "id": "95a81c82-56ca-4105-9554-4cf5ade13326",
   "metadata": {},
   "outputs": [],
   "source": []
  },
  {
   "cell_type": "code",
   "execution_count": null,
   "id": "92109cd5-b5f3-47d0-ba76-78e0b64971e1",
   "metadata": {},
   "outputs": [],
   "source": [
    "Q4. You have built an SVM regression model using a polynomial kernel and are trying to select the best\n",
    "metric to evaluate its performance. You have calculated both MSE and RMSE and found that both values\n",
    "are very close. Which metric should you choose to use in this case?"
   ]
  },
  {
   "cell_type": "markdown",
   "id": "32a01121-6fc4-4fd0-9fca-f514214b03a7",
   "metadata": {},
   "source": [
    "ANS-"
   ]
  },
  {
   "cell_type": "code",
   "execution_count": null,
   "id": "fbfc4ce4-b363-4e35-b4a8-015762d6afc1",
   "metadata": {},
   "outputs": [],
   "source": [
    "oth MSE (Mean Squared Error) and RMSE (Root Mean Squared Error) are used to evaluate the performance of regression models.\n",
    "MSE represents the difference between the original and predicted values extracted by squared the average difference over the data set.\n",
    "RMSE is the error rate by the square root of MSE. RMSE returns the error in terms of the target it is predicting, whereas MSE does not\n",
    "and is thus much more difficult to interpret. RMSE can be a better error measure in cases when it is better to give more weight \n",
    "(higher error) to large errors.\n",
    "\n",
    "In My case, since both values are very close, I can choose either one of them as both are good measures of model performance."
   ]
  },
  {
   "cell_type": "code",
   "execution_count": null,
   "id": "ddee1f4f-d846-41a1-bf67-2b6e482ba65e",
   "metadata": {},
   "outputs": [],
   "source": []
  },
  {
   "cell_type": "code",
   "execution_count": null,
   "id": "10d13c48-1f51-42ea-be7e-7c1e7d4223f9",
   "metadata": {},
   "outputs": [],
   "source": [
    "Q5. You are comparing the performance of different SVM regression models using different kernels (linear,\n",
    "polynomial, and RBF) and are trying to select the best evaluation metric. Which metric would be most\n",
    "appropriate if your goal is to measure how well the model explains the variance in the target variable?"
   ]
  },
  {
   "cell_type": "markdown",
   "id": "bd579829-e3b6-4869-b9f8-e39a97408598",
   "metadata": {},
   "source": [
    "ANS -"
   ]
  },
  {
   "cell_type": "code",
   "execution_count": null,
   "id": "a410d617-faa3-4876-8bad-006a6cf375f6",
   "metadata": {},
   "outputs": [],
   "source": [
    "If My goal is to measure how well the model explains the variance in the target variable, then the most appropriate \n",
    "evaluation metric would be R-squared (R²) or coefficient of determination. R-squared is a statistical measure that represents\n",
    "the proportion of the variance for a dependent variable that’s explained by an independent variable or variables in a regression model.\n",
    "It ranges from 0 to 1, with 1 indicating that all of the variance in the dependent variable is explained by the independent variable(s)\n",
    "in the regression mode."
   ]
  },
  {
   "cell_type": "code",
   "execution_count": null,
   "id": "05aaa453-2386-4c39-9f5a-c50bbde621e9",
   "metadata": {},
   "outputs": [],
   "source": []
  },
  {
   "cell_type": "code",
   "execution_count": null,
   "id": "f3f264e3-63f3-42f1-b1e5-91e875af8c05",
   "metadata": {},
   "outputs": [],
   "source": []
  },
  {
   "cell_type": "code",
   "execution_count": null,
   "id": "db0c95cf-dcd4-4165-8ba8-cfee7765598c",
   "metadata": {},
   "outputs": [],
   "source": []
  },
  {
   "cell_type": "code",
   "execution_count": null,
   "id": "9f4308aa-b040-48cb-a0e4-a5828ebce480",
   "metadata": {},
   "outputs": [],
   "source": []
  },
  {
   "cell_type": "code",
   "execution_count": null,
   "id": "dfc7166b-18fe-46de-b3d0-04886ed48e31",
   "metadata": {},
   "outputs": [],
   "source": []
  },
  {
   "cell_type": "code",
   "execution_count": null,
   "id": "638795fe-dad4-44c3-8e0e-125e7fff6b0e",
   "metadata": {},
   "outputs": [],
   "source": []
  },
  {
   "cell_type": "code",
   "execution_count": null,
   "id": "758d08cc-6ce8-44fa-ae90-b55687395016",
   "metadata": {},
   "outputs": [],
   "source": []
  },
  {
   "cell_type": "code",
   "execution_count": null,
   "id": "78baa71b-c2bc-4236-973e-5b09d72fb50e",
   "metadata": {},
   "outputs": [],
   "source": []
  },
  {
   "cell_type": "code",
   "execution_count": null,
   "id": "8810e2ba-f13c-4886-b125-baf57d37b6b0",
   "metadata": {},
   "outputs": [],
   "source": []
  },
  {
   "cell_type": "code",
   "execution_count": null,
   "id": "1e4863ff-8520-4d84-959f-b458e3da4f14",
   "metadata": {},
   "outputs": [],
   "source": []
  }
 ],
 "metadata": {
  "kernelspec": {
   "display_name": "Python 3 (ipykernel)",
   "language": "python",
   "name": "python3"
  },
  "language_info": {
   "codemirror_mode": {
    "name": "ipython",
    "version": 3
   },
   "file_extension": ".py",
   "mimetype": "text/x-python",
   "name": "python",
   "nbconvert_exporter": "python",
   "pygments_lexer": "ipython3",
   "version": "3.10.8"
  }
 },
 "nbformat": 4,
 "nbformat_minor": 5
}
